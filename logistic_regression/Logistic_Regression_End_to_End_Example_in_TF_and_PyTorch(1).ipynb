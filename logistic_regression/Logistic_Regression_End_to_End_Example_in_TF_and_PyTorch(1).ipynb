{
  "nbformat": 4,
  "nbformat_minor": 0,
  "metadata": {
    "colab": {
      "provenance": []
    },
    "kernelspec": {
      "name": "python3",
      "display_name": "Python 3"
    },
    "language_info": {
      "name": "python"
    }
  },
  "cells": [
    {
      "cell_type": "code",
      "source": [
        "# TensorFlow"
      ],
      "metadata": {
        "id": "I1l5jIcs2Ygf"
      },
      "execution_count": 26,
      "outputs": []
    },
    {
      "cell_type": "code",
      "execution_count": 10,
      "metadata": {
        "id": "wZgEP9DusRan"
      },
      "outputs": [],
      "source": [
        "import tensorflow as tf\n",
        "import torch\n",
        "import numpy as np\n",
        "from sklearn.datasets import load_breast_cancer\n",
        "from sklearn.model_selection import train_test_split\n",
        "from sklearn.preprocessing import StandardScaler\n"
      ]
    },
    {
      "cell_type": "code",
      "source": [
        "breast_cancer = load_breast_cancer()\n",
        "X = breast_cancer.data\n",
        "y = breast_cancer.target.reshape(-1,1)\n"
      ],
      "metadata": {
        "id": "_pXPM2l1swWO"
      },
      "execution_count": 11,
      "outputs": []
    },
    {
      "cell_type": "code",
      "source": [
        "X_train, X_test, y_train, y_test = train_test_split(X, y, test_size=0.2, random_state=42)\n",
        "scaler = StandardScaler()\n",
        "X_train = scaler.fit_transform(X_train)\n",
        "X_test = scaler.transform(X_test)\n",
        "\n"
      ],
      "metadata": {
        "id": "Yde8hNXJux1u"
      },
      "execution_count": 13,
      "outputs": []
    },
    {
      "cell_type": "code",
      "source": [
        "model = tf.keras.Sequential([\n",
        "    tf.keras.layers.Dense(1, activation='sigmoid', input_shape=(X_train.shape[1],))\n",
        "])\n",
        "model.compile(optimizer=tf.keras.optimizers.Adam(lr=0.01), loss='binary_crossentropy', metrics=['accuracy'])\n",
        "history = model.fit(X_train, y_train, validation_data=(X_test, y_test), epochs=100, batch_size=32)\n",
        "\n"
      ],
      "metadata": {
        "colab": {
          "base_uri": "https://localhost:8080/"
        },
        "id": "471zaAM4uhC5",
        "outputId": "b9570a2c-ba02-4226-c356-e1dae4c20939"
      },
      "execution_count": 16,
      "outputs": [
        {
          "output_type": "stream",
          "name": "stderr",
          "text": [
            "WARNING:absl:`lr` is deprecated in Keras optimizer, please use `learning_rate` or use the legacy optimizer, e.g.,tf.keras.optimizers.legacy.Adam.\n"
          ]
        },
        {
          "output_type": "stream",
          "name": "stdout",
          "text": [
            "Epoch 1/100\n",
            "15/15 [==============================] - 1s 17ms/step - loss: 0.8968 - accuracy: 0.5121 - val_loss: 0.8212 - val_accuracy: 0.4912\n",
            "Epoch 2/100\n",
            "15/15 [==============================] - 0s 5ms/step - loss: 0.8077 - accuracy: 0.5473 - val_loss: 0.7403 - val_accuracy: 0.5702\n",
            "Epoch 3/100\n",
            "15/15 [==============================] - 0s 4ms/step - loss: 0.7349 - accuracy: 0.6154 - val_loss: 0.6679 - val_accuracy: 0.6140\n",
            "Epoch 4/100\n",
            "15/15 [==============================] - 0s 5ms/step - loss: 0.6688 - accuracy: 0.6593 - val_loss: 0.6082 - val_accuracy: 0.6404\n",
            "Epoch 5/100\n",
            "15/15 [==============================] - 0s 5ms/step - loss: 0.6123 - accuracy: 0.7011 - val_loss: 0.5574 - val_accuracy: 0.6754\n",
            "Epoch 6/100\n",
            "15/15 [==============================] - 0s 5ms/step - loss: 0.5644 - accuracy: 0.7429 - val_loss: 0.5133 - val_accuracy: 0.7281\n",
            "Epoch 7/100\n",
            "15/15 [==============================] - 0s 4ms/step - loss: 0.5211 - accuracy: 0.7802 - val_loss: 0.4756 - val_accuracy: 0.7456\n",
            "Epoch 8/100\n",
            "15/15 [==============================] - 0s 4ms/step - loss: 0.4850 - accuracy: 0.7934 - val_loss: 0.4416 - val_accuracy: 0.7632\n",
            "Epoch 9/100\n",
            "15/15 [==============================] - 0s 5ms/step - loss: 0.4518 - accuracy: 0.8132 - val_loss: 0.4123 - val_accuracy: 0.7895\n",
            "Epoch 10/100\n",
            "15/15 [==============================] - 0s 4ms/step - loss: 0.4238 - accuracy: 0.8264 - val_loss: 0.3874 - val_accuracy: 0.8246\n",
            "Epoch 11/100\n",
            "15/15 [==============================] - 0s 4ms/step - loss: 0.3994 - accuracy: 0.8396 - val_loss: 0.3661 - val_accuracy: 0.8596\n",
            "Epoch 12/100\n",
            "15/15 [==============================] - 0s 4ms/step - loss: 0.3774 - accuracy: 0.8462 - val_loss: 0.3464 - val_accuracy: 0.8772\n",
            "Epoch 13/100\n",
            "15/15 [==============================] - 0s 5ms/step - loss: 0.3585 - accuracy: 0.8637 - val_loss: 0.3288 - val_accuracy: 0.9123\n",
            "Epoch 14/100\n",
            "15/15 [==============================] - 0s 5ms/step - loss: 0.3412 - accuracy: 0.8725 - val_loss: 0.3131 - val_accuracy: 0.9211\n",
            "Epoch 15/100\n",
            "15/15 [==============================] - 0s 5ms/step - loss: 0.3258 - accuracy: 0.8835 - val_loss: 0.2997 - val_accuracy: 0.9211\n",
            "Epoch 16/100\n",
            "15/15 [==============================] - 0s 4ms/step - loss: 0.3123 - accuracy: 0.8923 - val_loss: 0.2871 - val_accuracy: 0.9298\n",
            "Epoch 17/100\n",
            "15/15 [==============================] - 0s 4ms/step - loss: 0.2995 - accuracy: 0.8989 - val_loss: 0.2757 - val_accuracy: 0.9298\n",
            "Epoch 18/100\n",
            "15/15 [==============================] - 0s 6ms/step - loss: 0.2882 - accuracy: 0.9033 - val_loss: 0.2658 - val_accuracy: 0.9298\n",
            "Epoch 19/100\n",
            "15/15 [==============================] - 0s 4ms/step - loss: 0.2777 - accuracy: 0.9077 - val_loss: 0.2564 - val_accuracy: 0.9298\n",
            "Epoch 20/100\n",
            "15/15 [==============================] - 0s 5ms/step - loss: 0.2679 - accuracy: 0.9099 - val_loss: 0.2478 - val_accuracy: 0.9474\n",
            "Epoch 21/100\n",
            "15/15 [==============================] - 0s 5ms/step - loss: 0.2592 - accuracy: 0.9143 - val_loss: 0.2401 - val_accuracy: 0.9474\n",
            "Epoch 22/100\n",
            "15/15 [==============================] - 0s 4ms/step - loss: 0.2511 - accuracy: 0.9187 - val_loss: 0.2322 - val_accuracy: 0.9561\n",
            "Epoch 23/100\n",
            "15/15 [==============================] - 0s 5ms/step - loss: 0.2437 - accuracy: 0.9231 - val_loss: 0.2254 - val_accuracy: 0.9561\n",
            "Epoch 24/100\n",
            "15/15 [==============================] - 0s 5ms/step - loss: 0.2372 - accuracy: 0.9253 - val_loss: 0.2193 - val_accuracy: 0.9561\n",
            "Epoch 25/100\n",
            "15/15 [==============================] - 0s 5ms/step - loss: 0.2309 - accuracy: 0.9275 - val_loss: 0.2136 - val_accuracy: 0.9561\n",
            "Epoch 26/100\n",
            "15/15 [==============================] - 0s 5ms/step - loss: 0.2250 - accuracy: 0.9275 - val_loss: 0.2082 - val_accuracy: 0.9561\n",
            "Epoch 27/100\n",
            "15/15 [==============================] - 0s 5ms/step - loss: 0.2196 - accuracy: 0.9341 - val_loss: 0.2033 - val_accuracy: 0.9561\n",
            "Epoch 28/100\n",
            "15/15 [==============================] - 0s 5ms/step - loss: 0.2145 - accuracy: 0.9385 - val_loss: 0.1985 - val_accuracy: 0.9561\n",
            "Epoch 29/100\n",
            "15/15 [==============================] - 0s 5ms/step - loss: 0.2097 - accuracy: 0.9385 - val_loss: 0.1943 - val_accuracy: 0.9561\n",
            "Epoch 30/100\n",
            "15/15 [==============================] - 0s 4ms/step - loss: 0.2050 - accuracy: 0.9385 - val_loss: 0.1901 - val_accuracy: 0.9561\n",
            "Epoch 31/100\n",
            "15/15 [==============================] - 0s 5ms/step - loss: 0.2009 - accuracy: 0.9385 - val_loss: 0.1860 - val_accuracy: 0.9561\n",
            "Epoch 32/100\n",
            "15/15 [==============================] - 0s 5ms/step - loss: 0.1968 - accuracy: 0.9407 - val_loss: 0.1822 - val_accuracy: 0.9474\n",
            "Epoch 33/100\n",
            "15/15 [==============================] - 0s 4ms/step - loss: 0.1930 - accuracy: 0.9407 - val_loss: 0.1786 - val_accuracy: 0.9474\n",
            "Epoch 34/100\n",
            "15/15 [==============================] - 0s 5ms/step - loss: 0.1895 - accuracy: 0.9429 - val_loss: 0.1753 - val_accuracy: 0.9474\n",
            "Epoch 35/100\n",
            "15/15 [==============================] - 0s 5ms/step - loss: 0.1861 - accuracy: 0.9473 - val_loss: 0.1721 - val_accuracy: 0.9474\n",
            "Epoch 36/100\n",
            "15/15 [==============================] - 0s 5ms/step - loss: 0.1826 - accuracy: 0.9473 - val_loss: 0.1691 - val_accuracy: 0.9474\n",
            "Epoch 37/100\n",
            "15/15 [==============================] - 0s 5ms/step - loss: 0.1796 - accuracy: 0.9473 - val_loss: 0.1663 - val_accuracy: 0.9474\n",
            "Epoch 38/100\n",
            "15/15 [==============================] - 0s 4ms/step - loss: 0.1766 - accuracy: 0.9473 - val_loss: 0.1635 - val_accuracy: 0.9474\n",
            "Epoch 39/100\n",
            "15/15 [==============================] - 0s 4ms/step - loss: 0.1737 - accuracy: 0.9495 - val_loss: 0.1606 - val_accuracy: 0.9474\n",
            "Epoch 40/100\n",
            "15/15 [==============================] - 0s 4ms/step - loss: 0.1709 - accuracy: 0.9516 - val_loss: 0.1579 - val_accuracy: 0.9474\n",
            "Epoch 41/100\n",
            "15/15 [==============================] - 0s 5ms/step - loss: 0.1683 - accuracy: 0.9516 - val_loss: 0.1554 - val_accuracy: 0.9474\n",
            "Epoch 42/100\n",
            "15/15 [==============================] - 0s 4ms/step - loss: 0.1658 - accuracy: 0.9516 - val_loss: 0.1531 - val_accuracy: 0.9474\n",
            "Epoch 43/100\n",
            "15/15 [==============================] - 0s 5ms/step - loss: 0.1634 - accuracy: 0.9516 - val_loss: 0.1506 - val_accuracy: 0.9474\n",
            "Epoch 44/100\n",
            "15/15 [==============================] - 0s 6ms/step - loss: 0.1611 - accuracy: 0.9516 - val_loss: 0.1483 - val_accuracy: 0.9561\n",
            "Epoch 45/100\n",
            "15/15 [==============================] - 0s 4ms/step - loss: 0.1590 - accuracy: 0.9582 - val_loss: 0.1461 - val_accuracy: 0.9561\n",
            "Epoch 46/100\n",
            "15/15 [==============================] - 0s 5ms/step - loss: 0.1568 - accuracy: 0.9560 - val_loss: 0.1441 - val_accuracy: 0.9561\n",
            "Epoch 47/100\n",
            "15/15 [==============================] - 0s 5ms/step - loss: 0.1549 - accuracy: 0.9582 - val_loss: 0.1419 - val_accuracy: 0.9561\n",
            "Epoch 48/100\n",
            "15/15 [==============================] - 0s 5ms/step - loss: 0.1529 - accuracy: 0.9582 - val_loss: 0.1401 - val_accuracy: 0.9561\n",
            "Epoch 49/100\n",
            "15/15 [==============================] - 0s 5ms/step - loss: 0.1510 - accuracy: 0.9582 - val_loss: 0.1382 - val_accuracy: 0.9561\n",
            "Epoch 50/100\n",
            "15/15 [==============================] - 0s 4ms/step - loss: 0.1492 - accuracy: 0.9582 - val_loss: 0.1365 - val_accuracy: 0.9561\n",
            "Epoch 51/100\n",
            "15/15 [==============================] - 0s 5ms/step - loss: 0.1475 - accuracy: 0.9582 - val_loss: 0.1346 - val_accuracy: 0.9561\n",
            "Epoch 52/100\n",
            "15/15 [==============================] - 0s 5ms/step - loss: 0.1456 - accuracy: 0.9604 - val_loss: 0.1329 - val_accuracy: 0.9649\n",
            "Epoch 53/100\n",
            "15/15 [==============================] - 0s 5ms/step - loss: 0.1440 - accuracy: 0.9604 - val_loss: 0.1313 - val_accuracy: 0.9649\n",
            "Epoch 54/100\n",
            "15/15 [==============================] - 0s 5ms/step - loss: 0.1425 - accuracy: 0.9582 - val_loss: 0.1297 - val_accuracy: 0.9649\n",
            "Epoch 55/100\n",
            "15/15 [==============================] - 0s 4ms/step - loss: 0.1410 - accuracy: 0.9604 - val_loss: 0.1282 - val_accuracy: 0.9649\n",
            "Epoch 56/100\n",
            "15/15 [==============================] - 0s 4ms/step - loss: 0.1396 - accuracy: 0.9648 - val_loss: 0.1269 - val_accuracy: 0.9649\n",
            "Epoch 57/100\n",
            "15/15 [==============================] - 0s 4ms/step - loss: 0.1382 - accuracy: 0.9648 - val_loss: 0.1255 - val_accuracy: 0.9649\n",
            "Epoch 58/100\n",
            "15/15 [==============================] - 0s 5ms/step - loss: 0.1368 - accuracy: 0.9648 - val_loss: 0.1241 - val_accuracy: 0.9649\n",
            "Epoch 59/100\n",
            "15/15 [==============================] - 0s 5ms/step - loss: 0.1354 - accuracy: 0.9648 - val_loss: 0.1228 - val_accuracy: 0.9649\n",
            "Epoch 60/100\n",
            "15/15 [==============================] - 0s 5ms/step - loss: 0.1342 - accuracy: 0.9648 - val_loss: 0.1215 - val_accuracy: 0.9649\n",
            "Epoch 61/100\n",
            "15/15 [==============================] - 0s 4ms/step - loss: 0.1329 - accuracy: 0.9648 - val_loss: 0.1204 - val_accuracy: 0.9649\n",
            "Epoch 62/100\n",
            "15/15 [==============================] - 0s 4ms/step - loss: 0.1316 - accuracy: 0.9626 - val_loss: 0.1193 - val_accuracy: 0.9649\n",
            "Epoch 63/100\n",
            "15/15 [==============================] - 0s 4ms/step - loss: 0.1304 - accuracy: 0.9626 - val_loss: 0.1182 - val_accuracy: 0.9649\n",
            "Epoch 64/100\n",
            "15/15 [==============================] - 0s 4ms/step - loss: 0.1292 - accuracy: 0.9626 - val_loss: 0.1170 - val_accuracy: 0.9649\n",
            "Epoch 65/100\n",
            "15/15 [==============================] - 0s 4ms/step - loss: 0.1281 - accuracy: 0.9626 - val_loss: 0.1158 - val_accuracy: 0.9649\n",
            "Epoch 66/100\n",
            "15/15 [==============================] - 0s 5ms/step - loss: 0.1271 - accuracy: 0.9648 - val_loss: 0.1147 - val_accuracy: 0.9649\n",
            "Epoch 67/100\n",
            "15/15 [==============================] - 0s 4ms/step - loss: 0.1260 - accuracy: 0.9692 - val_loss: 0.1137 - val_accuracy: 0.9649\n",
            "Epoch 68/100\n",
            "15/15 [==============================] - 0s 4ms/step - loss: 0.1250 - accuracy: 0.9692 - val_loss: 0.1127 - val_accuracy: 0.9649\n",
            "Epoch 69/100\n",
            "15/15 [==============================] - 0s 4ms/step - loss: 0.1240 - accuracy: 0.9692 - val_loss: 0.1116 - val_accuracy: 0.9649\n",
            "Epoch 70/100\n",
            "15/15 [==============================] - 0s 4ms/step - loss: 0.1230 - accuracy: 0.9692 - val_loss: 0.1108 - val_accuracy: 0.9649\n",
            "Epoch 71/100\n",
            "15/15 [==============================] - 0s 4ms/step - loss: 0.1221 - accuracy: 0.9692 - val_loss: 0.1099 - val_accuracy: 0.9649\n",
            "Epoch 72/100\n",
            "15/15 [==============================] - 0s 4ms/step - loss: 0.1212 - accuracy: 0.9692 - val_loss: 0.1089 - val_accuracy: 0.9649\n",
            "Epoch 73/100\n",
            "15/15 [==============================] - 0s 4ms/step - loss: 0.1202 - accuracy: 0.9692 - val_loss: 0.1080 - val_accuracy: 0.9649\n",
            "Epoch 74/100\n",
            "15/15 [==============================] - 0s 4ms/step - loss: 0.1194 - accuracy: 0.9692 - val_loss: 0.1072 - val_accuracy: 0.9649\n",
            "Epoch 75/100\n",
            "15/15 [==============================] - 0s 4ms/step - loss: 0.1186 - accuracy: 0.9692 - val_loss: 0.1063 - val_accuracy: 0.9649\n",
            "Epoch 76/100\n",
            "15/15 [==============================] - 0s 5ms/step - loss: 0.1176 - accuracy: 0.9692 - val_loss: 0.1055 - val_accuracy: 0.9649\n",
            "Epoch 77/100\n",
            "15/15 [==============================] - 0s 5ms/step - loss: 0.1169 - accuracy: 0.9692 - val_loss: 0.1049 - val_accuracy: 0.9649\n",
            "Epoch 78/100\n",
            "15/15 [==============================] - 0s 4ms/step - loss: 0.1161 - accuracy: 0.9692 - val_loss: 0.1039 - val_accuracy: 0.9649\n",
            "Epoch 79/100\n",
            "15/15 [==============================] - 0s 4ms/step - loss: 0.1153 - accuracy: 0.9714 - val_loss: 0.1031 - val_accuracy: 0.9649\n",
            "Epoch 80/100\n",
            "15/15 [==============================] - 0s 4ms/step - loss: 0.1145 - accuracy: 0.9714 - val_loss: 0.1023 - val_accuracy: 0.9649\n",
            "Epoch 81/100\n",
            "15/15 [==============================] - 0s 4ms/step - loss: 0.1138 - accuracy: 0.9714 - val_loss: 0.1016 - val_accuracy: 0.9649\n",
            "Epoch 82/100\n",
            "15/15 [==============================] - 0s 5ms/step - loss: 0.1130 - accuracy: 0.9692 - val_loss: 0.1009 - val_accuracy: 0.9649\n",
            "Epoch 83/100\n",
            "15/15 [==============================] - 0s 4ms/step - loss: 0.1123 - accuracy: 0.9692 - val_loss: 0.1002 - val_accuracy: 0.9649\n",
            "Epoch 84/100\n",
            "15/15 [==============================] - 0s 4ms/step - loss: 0.1116 - accuracy: 0.9692 - val_loss: 0.0996 - val_accuracy: 0.9649\n",
            "Epoch 85/100\n",
            "15/15 [==============================] - 0s 5ms/step - loss: 0.1109 - accuracy: 0.9692 - val_loss: 0.0989 - val_accuracy: 0.9649\n",
            "Epoch 86/100\n",
            "15/15 [==============================] - 0s 4ms/step - loss: 0.1103 - accuracy: 0.9714 - val_loss: 0.0982 - val_accuracy: 0.9649\n",
            "Epoch 87/100\n",
            "15/15 [==============================] - 0s 5ms/step - loss: 0.1097 - accuracy: 0.9714 - val_loss: 0.0977 - val_accuracy: 0.9649\n",
            "Epoch 88/100\n",
            "15/15 [==============================] - 0s 5ms/step - loss: 0.1090 - accuracy: 0.9692 - val_loss: 0.0970 - val_accuracy: 0.9649\n",
            "Epoch 89/100\n",
            "15/15 [==============================] - 0s 4ms/step - loss: 0.1084 - accuracy: 0.9714 - val_loss: 0.0963 - val_accuracy: 0.9649\n",
            "Epoch 90/100\n",
            "15/15 [==============================] - 0s 4ms/step - loss: 0.1080 - accuracy: 0.9692 - val_loss: 0.0959 - val_accuracy: 0.9649\n",
            "Epoch 91/100\n",
            "15/15 [==============================] - 0s 4ms/step - loss: 0.1072 - accuracy: 0.9714 - val_loss: 0.0952 - val_accuracy: 0.9649\n",
            "Epoch 92/100\n",
            "15/15 [==============================] - 0s 5ms/step - loss: 0.1066 - accuracy: 0.9736 - val_loss: 0.0946 - val_accuracy: 0.9649\n",
            "Epoch 93/100\n",
            "15/15 [==============================] - 0s 7ms/step - loss: 0.1060 - accuracy: 0.9736 - val_loss: 0.0940 - val_accuracy: 0.9649\n",
            "Epoch 94/100\n",
            "15/15 [==============================] - 0s 6ms/step - loss: 0.1054 - accuracy: 0.9736 - val_loss: 0.0934 - val_accuracy: 0.9649\n",
            "Epoch 95/100\n",
            "15/15 [==============================] - 0s 5ms/step - loss: 0.1049 - accuracy: 0.9736 - val_loss: 0.0928 - val_accuracy: 0.9649\n",
            "Epoch 96/100\n",
            "15/15 [==============================] - 0s 5ms/step - loss: 0.1044 - accuracy: 0.9736 - val_loss: 0.0921 - val_accuracy: 0.9649\n",
            "Epoch 97/100\n",
            "15/15 [==============================] - 0s 6ms/step - loss: 0.1038 - accuracy: 0.9736 - val_loss: 0.0916 - val_accuracy: 0.9649\n",
            "Epoch 98/100\n",
            "15/15 [==============================] - 0s 7ms/step - loss: 0.1033 - accuracy: 0.9736 - val_loss: 0.0910 - val_accuracy: 0.9649\n",
            "Epoch 99/100\n",
            "15/15 [==============================] - 0s 5ms/step - loss: 0.1027 - accuracy: 0.9736 - val_loss: 0.0904 - val_accuracy: 0.9649\n",
            "Epoch 100/100\n",
            "15/15 [==============================] - 0s 6ms/step - loss: 0.1022 - accuracy: 0.9736 - val_loss: 0.0900 - val_accuracy: 0.9649\n"
          ]
        }
      ]
    },
    {
      "cell_type": "code",
      "source": [
        "loss, accuracy = model.evaluate(X_test, y_test)\n",
        "print('Test accuracy:', accuracy)\n"
      ],
      "metadata": {
        "colab": {
          "base_uri": "https://localhost:8080/"
        },
        "id": "ZK8fvbseumyQ",
        "outputId": "88b381ea-047f-4d7f-da4a-1d84acecb4cb"
      },
      "execution_count": 17,
      "outputs": [
        {
          "output_type": "stream",
          "name": "stdout",
          "text": [
            "4/4 [==============================] - 0s 4ms/step - loss: 0.0900 - accuracy: 0.9649\n",
            "Test accuracy: 0.9649122953414917\n"
          ]
        }
      ]
    },
    {
      "cell_type": "code",
      "source": [
        "# PyTorch\n"
      ],
      "metadata": {
        "id": "wstDs90atuFA"
      },
      "execution_count": 18,
      "outputs": []
    },
    {
      "cell_type": "code",
      "source": [
        "class LogisticRegression(torch.nn.Module):\n",
        "    def __init__(self, input_dim):\n",
        "        super(LogisticRegression, self).__init__()\n",
        "        self.linear = torch.nn.Linear(input_dim, 1)\n",
        "    \n",
        "    def forward(self, x):\n",
        "        y_pred = torch.sigmoid(self.linear(x))\n",
        "        return y_pred\n",
        "    \n",
        "model = LogisticRegression(X_train.shape[1])\n"
      ],
      "metadata": {
        "id": "e5idCBLMtwHX"
      },
      "execution_count": 19,
      "outputs": []
    },
    {
      "cell_type": "code",
      "source": [
        "criterion = torch.nn.BCELoss()\n",
        "optimizer = torch.optim.SGD(model.parameters(), lr=0.01)\n"
      ],
      "metadata": {
        "id": "Fcd14S0Qt8zR"
      },
      "execution_count": 20,
      "outputs": []
    },
    {
      "cell_type": "code",
      "source": [
        "X_train = torch.from_numpy(X_train).float()\n",
        "y_train = torch.from_numpy(y_train).float()\n",
        "X_test = torch.from_numpy(X_test).float()\n",
        "y_test = torch.from_numpy(y_test).float()\n",
        "\n",
        "num_epochs = 100\n",
        "for epoch in range(num_epochs):\n",
        "    y_pred = model(X_train)\n",
        "    loss = criterion(y_pred, y_train)\n",
        "    optimizer.zero_grad()\n",
        "    loss.backward()\n",
        "    optimizer.step()\n"
      ],
      "metadata": {
        "id": "gru8ok-M1-Yl"
      },
      "execution_count": 21,
      "outputs": []
    },
    {
      "cell_type": "code",
      "source": [
        "with torch.no_grad():\n",
        "    y_pred = model(X_test)\n",
        "    predicted_classes = (y_pred > 0.5).float()\n",
        "    accuracy = torch.mean((predicted_classes == y_test).float())\n",
        "print('Test accuracy:', accuracy)\n"
      ],
      "metadata": {
        "colab": {
          "base_uri": "https://localhost:8080/"
        },
        "id": "xefiU2AN1_oX",
        "outputId": "9b202484-cfbb-4416-c8c7-84c3657cdf27"
      },
      "execution_count": 22,
      "outputs": [
        {
          "output_type": "stream",
          "name": "stdout",
          "text": [
            "Test accuracy: tensor(0.9825)\n"
          ]
        }
      ]
    },
    {
      "cell_type": "code",
      "source": [],
      "metadata": {
        "id": "le4gQqoK2BGr"
      },
      "execution_count": null,
      "outputs": []
    }
  ]
}