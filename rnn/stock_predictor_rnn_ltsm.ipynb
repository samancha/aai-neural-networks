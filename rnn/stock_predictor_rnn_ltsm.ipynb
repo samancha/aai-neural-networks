{
 "cells": [
  {
   "cell_type": "markdown",
   "metadata": {},
   "source": [
    "Instructions  \n",
    "Data Preparation: Select a portion of the S&P 500 stock data for analysis. Perform preprocessing steps such as feature selection, normalization, and scaling to make the data suitable for the RNN model.  \n",
    "Model Development: Construct an RNN model using libraries like TensorFlow, or PyTorch. Incorporate LSTM units to address the vanishing gradient problem and improve memory retention across time steps.  \n",
    "Training: Train the RNN model on the prepared dataset, optimizing the loss function and choosing an appropriate optimizer to enhance model performance.  \n",
    "Prediction: Enable the model to forecast future stock prices, starting from a given initial stock price input.\n",
    "Ensure the RNN model efficiently learns from the selected stock price data and accurately forecasts future trends.  \n",
    "\n",
    "Note: To evaluate the performance of the RNN model, you can use metrics like Mean Absolute Error (MAE), Root Mean Squared Error (RMSE), and Mean Absolute Percentage Error (MAPE). You can also try different hyperparameters and compare the results to find the best configuration for the RNN model. Additionally, you can explore different methods for visualizing the forecasted stock prices, such as line charts and candlestick charts.\n",
    "\n",
    "Data: M3-AAPL.csv/zip "
   ]
  },
  {
   "cell_type": "code",
   "execution_count": 37,
   "metadata": {},
   "outputs": [
    {
     "name": "stdout",
     "output_type": "stream",
     "text": [
      "2.17.0\n"
     ]
    }
   ],
   "source": [
    "import pandas as pd\n",
    "import numpy as np\n",
    "import matplotlib.pyplot as plt\n",
    "import seaborn as sns\n",
    "import tensorflow as tf\n",
    "# from tensorflow import keras\n",
    "from sklearn.preprocessing import MinMaxScaler # for normalization\n",
    "from sklearn.metrics import mean_squared_error\n",
    "print(tf.__version__)"
   ]
  },
  {
   "cell_type": "code",
   "execution_count": 62,
   "metadata": {},
   "outputs": [
    {
     "data": {
      "text/html": [
       "<div>\n",
       "<style scoped>\n",
       "    .dataframe tbody tr th:only-of-type {\n",
       "        vertical-align: middle;\n",
       "    }\n",
       "\n",
       "    .dataframe tbody tr th {\n",
       "        vertical-align: top;\n",
       "    }\n",
       "\n",
       "    .dataframe thead th {\n",
       "        text-align: right;\n",
       "    }\n",
       "</style>\n",
       "<table border=\"1\" class=\"dataframe\">\n",
       "  <thead>\n",
       "    <tr style=\"text-align: right;\">\n",
       "      <th></th>\n",
       "      <th>Date</th>\n",
       "      <th>Open</th>\n",
       "      <th>High</th>\n",
       "      <th>Low</th>\n",
       "      <th>Close</th>\n",
       "      <th>Adj Close</th>\n",
       "      <th>Volume</th>\n",
       "    </tr>\n",
       "  </thead>\n",
       "  <tbody>\n",
       "    <tr>\n",
       "      <th>0</th>\n",
       "      <td>2019-05-28</td>\n",
       "      <td>44.730000</td>\n",
       "      <td>45.147499</td>\n",
       "      <td>44.477501</td>\n",
       "      <td>44.557499</td>\n",
       "      <td>43.002316</td>\n",
       "      <td>111792800</td>\n",
       "    </tr>\n",
       "    <tr>\n",
       "      <th>1</th>\n",
       "      <td>2019-05-29</td>\n",
       "      <td>44.105000</td>\n",
       "      <td>44.837502</td>\n",
       "      <td>44.000000</td>\n",
       "      <td>44.345001</td>\n",
       "      <td>42.797237</td>\n",
       "      <td>113924800</td>\n",
       "    </tr>\n",
       "    <tr>\n",
       "      <th>2</th>\n",
       "      <td>2019-05-30</td>\n",
       "      <td>44.487499</td>\n",
       "      <td>44.807499</td>\n",
       "      <td>44.167500</td>\n",
       "      <td>44.575001</td>\n",
       "      <td>43.019211</td>\n",
       "      <td>84873600</td>\n",
       "    </tr>\n",
       "    <tr>\n",
       "      <th>3</th>\n",
       "      <td>2019-05-31</td>\n",
       "      <td>44.057499</td>\n",
       "      <td>44.497501</td>\n",
       "      <td>43.747501</td>\n",
       "      <td>43.767502</td>\n",
       "      <td>42.239895</td>\n",
       "      <td>108174400</td>\n",
       "    </tr>\n",
       "    <tr>\n",
       "      <th>4</th>\n",
       "      <td>2019-06-03</td>\n",
       "      <td>43.900002</td>\n",
       "      <td>44.480000</td>\n",
       "      <td>42.567501</td>\n",
       "      <td>43.325001</td>\n",
       "      <td>41.812828</td>\n",
       "      <td>161584400</td>\n",
       "    </tr>\n",
       "    <tr>\n",
       "      <th>5</th>\n",
       "      <td>2019-06-04</td>\n",
       "      <td>43.860001</td>\n",
       "      <td>44.957500</td>\n",
       "      <td>43.630001</td>\n",
       "      <td>44.910000</td>\n",
       "      <td>43.342510</td>\n",
       "      <td>123872000</td>\n",
       "    </tr>\n",
       "    <tr>\n",
       "      <th>6</th>\n",
       "      <td>2019-06-05</td>\n",
       "      <td>46.070000</td>\n",
       "      <td>46.247501</td>\n",
       "      <td>45.285000</td>\n",
       "      <td>45.634998</td>\n",
       "      <td>44.042213</td>\n",
       "      <td>119093600</td>\n",
       "    </tr>\n",
       "    <tr>\n",
       "      <th>7</th>\n",
       "      <td>2019-06-06</td>\n",
       "      <td>45.770000</td>\n",
       "      <td>46.367500</td>\n",
       "      <td>45.537498</td>\n",
       "      <td>46.305000</td>\n",
       "      <td>44.688820</td>\n",
       "      <td>90105200</td>\n",
       "    </tr>\n",
       "    <tr>\n",
       "      <th>8</th>\n",
       "      <td>2019-06-07</td>\n",
       "      <td>46.627499</td>\n",
       "      <td>47.980000</td>\n",
       "      <td>46.442501</td>\n",
       "      <td>47.537498</td>\n",
       "      <td>45.878304</td>\n",
       "      <td>122737600</td>\n",
       "    </tr>\n",
       "    <tr>\n",
       "      <th>9</th>\n",
       "      <td>2019-06-10</td>\n",
       "      <td>47.952499</td>\n",
       "      <td>48.842499</td>\n",
       "      <td>47.904999</td>\n",
       "      <td>48.145000</td>\n",
       "      <td>46.464611</td>\n",
       "      <td>104883600</td>\n",
       "    </tr>\n",
       "  </tbody>\n",
       "</table>\n",
       "</div>"
      ],
      "text/plain": [
       "         Date       Open       High        Low      Close  Adj Close  \\\n",
       "0  2019-05-28  44.730000  45.147499  44.477501  44.557499  43.002316   \n",
       "1  2019-05-29  44.105000  44.837502  44.000000  44.345001  42.797237   \n",
       "2  2019-05-30  44.487499  44.807499  44.167500  44.575001  43.019211   \n",
       "3  2019-05-31  44.057499  44.497501  43.747501  43.767502  42.239895   \n",
       "4  2019-06-03  43.900002  44.480000  42.567501  43.325001  41.812828   \n",
       "5  2019-06-04  43.860001  44.957500  43.630001  44.910000  43.342510   \n",
       "6  2019-06-05  46.070000  46.247501  45.285000  45.634998  44.042213   \n",
       "7  2019-06-06  45.770000  46.367500  45.537498  46.305000  44.688820   \n",
       "8  2019-06-07  46.627499  47.980000  46.442501  47.537498  45.878304   \n",
       "9  2019-06-10  47.952499  48.842499  47.904999  48.145000  46.464611   \n",
       "\n",
       "      Volume  \n",
       "0  111792800  \n",
       "1  113924800  \n",
       "2   84873600  \n",
       "3  108174400  \n",
       "4  161584400  \n",
       "5  123872000  \n",
       "6  119093600  \n",
       "7   90105200  \n",
       "8  122737600  \n",
       "9  104883600  "
      ]
     },
     "metadata": {},
     "output_type": "display_data"
    },
    {
     "data": {
      "text/plain": [
       "Date          object\n",
       "Open         float64\n",
       "High         float64\n",
       "Low          float64\n",
       "Close        float64\n",
       "Adj Close    float64\n",
       "Volume         int64\n",
       "dtype: object"
      ]
     },
     "metadata": {},
     "output_type": "display_data"
    }
   ],
   "source": [
    "# 1. Load the dataset\n",
    "df = pd.read_csv('M3-AAPL.csv')\n",
    "pd.set_option('display.max_columns', None)\n",
    "display(df.head(10))\n",
    "display(df.dtypes)"
   ]
  },
  {
   "cell_type": "code",
   "execution_count": 63,
   "metadata": {},
   "outputs": [],
   "source": [
    "# Feature selection\n",
    "\n",
    "# Extract the Close price column\n",
    "close_prices = df['Close'].values.astype('float32').reshape(-1, 1)\n",
    "\n",
    "# Normalize the Close prices\n",
    "scaler = MinMaxScaler(feature_range=(0, 1))\n",
    "close_prices = scaler.fit_transform(close_prices)"
   ]
  },
  {
   "cell_type": "code",
   "execution_count": 71,
   "metadata": {},
   "outputs": [],
   "source": [
    "# split the data into training and test sets\n",
    "train_size = int(len(close_prices) * 0.7)\n",
    "test_size = len(close_prices) - train_size\n",
    "train_data, test_data = close_prices[0:train_size,:], close_prices[train_size:len(close_prices),:]"
   ]
  },
  {
   "cell_type": "code",
   "execution_count": 72,
   "metadata": {},
   "outputs": [],
   "source": [
    "# Create the training data\n",
    "window_size = 20\n",
    "X_train, y_train = [], []\n",
    "for i in range(window_size, len(train_data)):\n",
    "    X_train.append(train_data[i-window_size:i, 0])\n",
    "    y_train.append(train_data[i, 0])\n",
    "X_train, y_train = np.array(X_train), np.array(y_train)\n",
    "\n",
    "# Reshape the training data for LSTM\n",
    "X_train = np.reshape(X_train, (X_train.shape[0], X_train.shape[1], 1))\n",
    "\n",
    "# Create the testing data\n",
    "X_test, y_test = [], []\n",
    "for i in range(window_size, len(test_data)):\n",
    "    X_test.append(test_data[i-window_size:i, 0])\n",
    "    y_test.append(test_data[i, 0])\n",
    "X_test, y_test = np.array(X_test), np.array(y_test)\n",
    "\n",
    "# Reshape the testing data for LSTM\n",
    "X_test = np.reshape(X_test, (X_test.shape[0], X_test.shape[1], 1))"
   ]
  },
  {
   "cell_type": "code",
   "execution_count": 73,
   "metadata": {},
   "outputs": [
    {
     "name": "stdout",
     "output_type": "stream",
     "text": [
      "Creating RNN model with LSTM...\n",
      "Model created successfully!\n"
     ]
    }
   ],
   "source": [
    "# developmnet of the rnn model with lstm\n",
    "def create_rnn_model_with_lstm(window_size=5):\n",
    "    print('Creating RNN model with LSTM...')\n",
    "\n",
    "    model = tf.keras.Sequential([\n",
    "        tf.keras.layers.Input(shape=(window_size, 1)),\n",
    "        tf.keras.layers.LSTM(20),\n",
    "        tf.keras.layers.Dense(1)\n",
    "    ])\n",
    "\n",
    "    # rmsprop = tf.keras.optimizers.RMSprop(learning_rate=0.001)\n",
    "    model.compile(optimizer='adam', loss='mse', metrics=[\n",
    "                    tf.keras.losses.MeanAbsoluteError(), tf.keras.losses.MeanAbsolutePercentageError()])\n",
    "    print(\"Model created successfully!\")\n",
    "    return model\n",
    "\n",
    "model = create_rnn_model_with_lstm()"
   ]
  },
  {
   "cell_type": "code",
   "execution_count": null,
   "metadata": {},
   "outputs": [],
   "source": [
    "# Train model\n",
    "model.fit(X_train, y_train, epochs=200, batch_size=64)"
   ]
  },
  {
   "cell_type": "code",
   "execution_count": 75,
   "metadata": {},
   "outputs": [
    {
     "name": "stdout",
     "output_type": "stream",
     "text": [
      "\u001b[1m12/12\u001b[0m \u001b[32m━━━━━━━━━━━━━━━━━━━━\u001b[0m\u001b[37m\u001b[0m \u001b[1m0s\u001b[0m 749us/step - loss: 5.8176e-04 - mean_absolute_error: 0.0199 - mean_absolute_percentage_error: 2.5612\n"
     ]
    }
   ],
   "source": [
    "# Evaluate the model on the test data\n",
    "mse = model.evaluate(X_test, y_test)\n"
   ]
  },
  {
   "cell_type": "code",
   "execution_count": 76,
   "metadata": {},
   "outputs": [
    {
     "name": "stdout",
     "output_type": "stream",
     "text": [
      "\u001b[1m12/12\u001b[0m \u001b[32m━━━━━━━━━━━━━━━━━━━━\u001b[0m\u001b[37m\u001b[0m \u001b[1m0s\u001b[0m 5ms/step\n",
      "RMSE: 3.9712321758270264\n",
      "prediction sample [133.62997]\n"
     ]
    },
    {
     "data": {
      "image/png": "[encoded data removed]",
      "text/plain": [
       "<Figure size 640x480 with 1 Axes>"
      ]
     },
     "metadata": {},
     "output_type": "display_data"
    }
   ],
   "source": [
    "# predict a future stock price given stock initial price\n",
    "predictions = model.predict(X_test)\n",
    "\n",
    "# Denormalize the predictions and actual values\n",
    "predictions = scaler.inverse_transform(predictions)\n",
    "y_test = scaler.inverse_transform(y_test.reshape(-1, 1))\n",
    "\n",
    "rmse = np.sqrt(mean_squared_error(y_test, predictions))\n",
    "print(f\"RMSE: {rmse}\")\n",
    "print(\"prediction sample\", predictions[0])\n",
    "# Plot the predictions and actual values\n",
    "plt.plot(y_test, label='Actual')\n",
    "plt.plot(predictions, label='Predicted')\n",
    "plt.legend()\n",
    "plt.show()"
   ]
  }
 ],
 "metadata": {
  "kernelspec": {
   "display_name": "venv3110",
   "language": "python",
   "name": "python3"
  },
  "language_info": {
   "codemirror_mode": {
    "name": "ipython",
    "version": 3
   },
   "file_extension": ".py",
   "mimetype": "text/x-python",
   "name": "python",
   "nbconvert_exporter": "python",
   "pygments_lexer": "ipython3",
   "version": "3.11.0"
  }
 },
 "nbformat": 4,
 "nbformat_minor": 2
}
