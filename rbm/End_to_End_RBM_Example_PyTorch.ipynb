{
  "nbformat": 4,
  "nbformat_minor": 0,
  "metadata": {
    "colab": {
      "provenance": []
    },
    "kernelspec": {
      "name": "python3",
      "display_name": "Python 3"
    },
    "language_info": {
      "name": "python"
    }
  },
  "cells": [
    {
      "cell_type": "code",
      "source": [
        "import torch\n",
        "import torch.nn as nn\n",
        "import torch.optim as optim\n",
        "import numpy as np\n",
        "from torchvision.datasets import MNIST\n",
        "from torch.utils.data import DataLoader\n",
        "from torchvision import transforms\n",
        "\n",
        "# Define the Boltzmann Machine model\n",
        "class BoltzmannMachine(nn.Module):\n",
        "    def __init__(self, num_visible, num_hidden):\n",
        "        super(BoltzmannMachine, self).__init__()\n",
        "        self.num_visible = num_visible\n",
        "        self.num_hidden = num_hidden\n",
        "        self.W = nn.Parameter(torch.randn(num_visible, num_hidden) * 0.1)\n",
        "        self.b_visible = nn.Parameter(torch.zeros(num_visible))\n",
        "        self.b_hidden = nn.Parameter(torch.zeros(num_hidden))\n",
        "\n",
        "    def forward(self, x):\n",
        "        hidden_prob = torch.sigmoid(torch.matmul(x, self.W) + self.b_hidden)\n",
        "        hidden_state = torch.bernoulli(hidden_prob)\n",
        "        visible_prob = torch.sigmoid(torch.matmul(hidden_state, self.W.T) + self.b_visible)\n",
        "        visible_state = torch.bernoulli(visible_prob)\n",
        "        return visible_state\n",
        "\n",
        "# Load the MNIST dataset\n",
        "transform = transforms.Compose([\n",
        "    transforms.ToTensor(),\n",
        "    transforms.Normalize((0.1307,), (0.3081,))\n",
        "])\n",
        "train_dataset = MNIST('./data', train=True, download=True, transform=transform)\n",
        "test_dataset = MNIST('./data', train=False, transform=transform)\n",
        "train_loader = DataLoader(train_dataset, batch_size=100, shuffle=True)\n",
        "test_loader = DataLoader(test_dataset, batch_size=100, shuffle=True)\n",
        "\n",
        "# Initialize the Boltzmann Machine model\n",
        "num_visible = 784  # Number of visible units (input pixels)\n",
        "num_hidden = 500  # Number of hidden units\n",
        "model = BoltzmannMachine(num_visible, num_hidden)\n",
        "\n",
        "# Define the loss function and the optimizer\n",
        "criterion = nn.BCELoss()\n",
        "optimizer = optim.Adam(model.parameters(), lr=0.01)\n",
        "\n",
        "# Train the Boltzmann Machine\n",
        "num_epochs = 10\n",
        "\n",
        "for epoch in range(num_epochs):\n",
        "    running_loss = 0.0\n",
        "    for i, data in enumerate(train_loader, 0):\n",
        "        inputs, _ = data\n",
        "        inputs = inputs.view(inputs.size(0), -1)\n",
        "        optimizer.zero_grad()\n",
        "        outputs = model(inputs)\n",
        "        loss = criterion(outputs, inputs)\n",
        "        loss.backward()\n",
        "        optimizer.step()\n",
        "        running_loss += loss.item()\n",
        "    test_loss = 0.0\n",
        "    for i, data in enumerate(test_loader, 0):\n",
        "        inputs, _ = data\n",
        "        inputs = inputs.view(inputs.size(0), -1)\n",
        "        outputs = model(inputs)\n",
        "        test_loss += criterion(outputs, inputs).item()\n",
        "    print(\"Epoch %d: reconstruction loss = %f\" % (epoch+1, test_loss/len(test_loader)))\n"
      ],
      "metadata": {
        "colab": {
          "base_uri": "https://localhost:8080/"
        },
        "id": "z9E4h1d04b8I",
        "outputId": "ae84239e-f1f1-459c-bab2-7b16134b3e58"
      },
      "execution_count": null,
      "outputs": [
        {
          "output_type": "stream",
          "name": "stdout",
          "text": [
            "Epoch 1: reconstruction loss = 29.880737\n",
            "Epoch 2: reconstruction loss = 29.831159\n",
            "Epoch 3: reconstruction loss = 29.825280\n",
            "Epoch 4: reconstruction loss = 29.810683\n",
            "Epoch 5: reconstruction loss = 29.823152\n",
            "Epoch 6: reconstruction loss = 29.799071\n",
            "Epoch 7: reconstruction loss = 29.810606\n",
            "Epoch 8: reconstruction loss = 29.824484\n",
            "Epoch 9: reconstruction loss = 29.899713\n",
            "Epoch 10: reconstruction loss = 29.819060\n"
          ]
        }
      ]
    },
    {
      "cell_type": "code",
      "source": [],
      "metadata": {
        "id": "GkcFlbu7_ZYL"
      },
      "execution_count": null,
      "outputs": []
    },
    {
      "cell_type": "code",
      "source": [],
      "metadata": {
        "id": "L0rSUg7KAqvL"
      },
      "execution_count": null,
      "outputs": []
    }
  ]
}