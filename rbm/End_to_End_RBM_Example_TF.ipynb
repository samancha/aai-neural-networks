{
  "cells": [
    {
      "cell_type": "code",
      "execution_count": 1,
      "metadata": {
        "colab": {
          "base_uri": "https://localhost:8080/"
        },
        "id": "QuwexStW4KCo",
        "outputId": "d68c9e3e-9d27-486b-c4b9-9a4cf87e0961"
      },
      "outputs": [
        {
          "name": "stdout",
          "output_type": "stream",
          "text": [
            "WARNING:tensorflow:From /Users/Steve/.pyenv/versions/3.10.0/lib/python3.10/site-packages/tensorflow/python/compat/v2_compat.py:98: disable_resource_variables (from tensorflow.python.ops.resource_variables_toggle) is deprecated and will be removed in a future version.\n",
            "Instructions for updating:\n",
            "non-resource variables are not supported in the long term\n"
          ]
        },
        {
          "name": "stderr",
          "output_type": "stream",
          "text": [
            "2024-07-29 17:30:33.969196: I tensorflow/compiler/mlir/mlir_graph_optimization_pass.cc:388] MLIR V1 optimization pass is not enabled\n"
          ]
        },
        {
          "name": "stdout",
          "output_type": "stream",
          "text": [
            "Epoch 1: reconstruction loss = 42.423299\n",
            "Epoch 2: reconstruction loss = 32.532313\n",
            "Epoch 3: reconstruction loss = 30.654813\n",
            "Epoch 4: reconstruction loss = 28.928765\n",
            "Epoch 5: reconstruction loss = 28.108906\n",
            "Epoch 6: reconstruction loss = 27.603279\n",
            "Epoch 7: reconstruction loss = 27.541430\n",
            "Epoch 8: reconstruction loss = 27.602122\n",
            "Epoch 9: reconstruction loss = 27.259490\n",
            "Epoch 10: reconstruction loss = 27.104649\n"
          ]
        }
      ],
      "source": [
        "# TensorFlow setup\n",
        "import tensorflow as tf\n",
        "from tensorflow.keras.datasets import mnist\n",
        "from tensorflow.keras.layers import Input, Dense\n",
        "from tensorflow.keras.models import Model\n",
        "import tensorflow.compat.v1 as tf\n",
        "tf.disable_v2_behavior()\n",
        "import numpy as np\n",
        "from tensorflow.keras.datasets import mnist\n",
        "\n",
        "# Load the MNIST dataset\n",
        "(x_train, y_train), (x_test, y_test) = mnist.load_data()\n",
        "x_train = x_train.reshape(-1, 784).astype(np.float32) / 255.0\n",
        "x_test = x_test.reshape(-1, 784).astype(np.float32) / 255.0\n",
        "y_train = tf.keras.utils.to_categorical(y_train, num_classes=10)\n",
        "y_test = tf.keras.utils.to_categorical(y_test, num_classes=10)\n",
        "\n",
        "# Define the Boltzmann Machine model\n",
        "num_visible = 784  # Number of visible units (input pixels)\n",
        "num_hidden = 500  # Number of hidden units\n",
        "learning_rate = 0.01  # Learning rate for the optimizer\n",
        "\n",
        "# Define the input and hidden layers\n",
        "x = tf.compat.v1.placeholder(tf.float32, [None, num_visible])  # Input layer\n",
        "W = tf.Variable(tf.random.normal([num_visible, num_hidden], stddev=0.1))  # Weights matrix\n",
        "b_hidden = tf.Variable(tf.random.normal([num_hidden], stddev=0.1))  # Hidden bias\n",
        "b_visible = tf.Variable(tf.random.normal([num_visible], stddev=0.1))  # Visible bias\n",
        "\n",
        "# Define the energy function and the sampling function\n",
        "hidden_activation = tf.matmul(x, W) + b_hidden\n",
        "hidden_prob = tf.nn.sigmoid(hidden_activation)\n",
        "visible_activation = tf.matmul(hidden_prob, tf.transpose(W)) + b_visible\n",
        "visible_prob = tf.nn.sigmoid(visible_activation)\n",
        "\n",
        "# Define the loss function and the optimizer\n",
        "loss = tf.reduce_mean(tf.square(x - visible_prob))\n",
        "optimizer = tf.train.AdamOptimizer(learning_rate)\n",
        "train_op = optimizer.minimize(loss)\n",
        "\n",
        "# Train the Boltzmann Machine\n",
        "num_epochs = 10\n",
        "batch_size = 100\n",
        "num_batches = x_train.shape[0] // batch_size\n",
        "\n",
        "with tf.Session() as sess:\n",
        "    sess.run(tf.global_variables_initializer())\n",
        "\n",
        "    for epoch in range(num_epochs):\n",
        "        for batch in range(num_batches):\n",
        "            batch_x = x_train[batch*batch_size:(batch+1)*batch_size]\n",
        "            _, reconstruction_loss = sess.run([train_op, loss], feed_dict={x: batch_x})\n",
        "        reconstruction_loss = sess.run(loss, feed_dict={x: x_test})\n",
        "        print(\"Epoch %d: reconstruction loss = %f\" % (epoch+1, reconstruction_loss*10000))\n"
      ]
    },
    {
      "cell_type": "code",
      "execution_count": null,
      "metadata": {
        "id": "GkcFlbu7_ZYL"
      },
      "outputs": [],
      "source": []
    },
    {
      "cell_type": "code",
      "execution_count": null,
      "metadata": {
        "id": "L0rSUg7KAqvL"
      },
      "outputs": [],
      "source": []
    }
  ],
  "metadata": {
    "colab": {
      "provenance": []
    },
    "kernelspec": {
      "display_name": "Python 3",
      "name": "python3"
    },
    "language_info": {
      "codemirror_mode": {
        "name": "ipython",
        "version": 3
      },
      "file_extension": ".py",
      "mimetype": "text/x-python",
      "name": "python",
      "nbconvert_exporter": "python",
      "pygments_lexer": "ipython3",
      "version": "3.10.0"
    }
  },
  "nbformat": 4,
  "nbformat_minor": 0
}
