{
  "cells": [
    {
      "cell_type": "markdown",
      "metadata": {
        "id": "DT5ZhzNrxXGk"
      },
      "source": [
        "# In this notebook we are getting familiar with tensors in TensorFlow and PyTorch\n",
        "* Getting information from tensors\n",
        "* Tensors and Numpy\n",
        "* Using tf.function"
      ]
    },
    {
      "cell_type": "code",
      "execution_count": 1,
      "metadata": {
        "id": "AuNvLkodi8C1"
      },
      "outputs": [],
      "source": [
        "import numpy as np\n",
        "import pandas as pd"
      ]
    },
    {
      "cell_type": "code",
      "execution_count": 2,
      "metadata": {
        "colab": {
          "base_uri": "https://localhost:8080/"
        },
        "id": "4MZ5UzB1yRhj",
        "outputId": "feca8564-3c2f-4ea0-cd7a-bd81ae4ea6e1"
      },
      "outputs": [
        {
          "name": "stdout",
          "output_type": "stream",
          "text": [
            "2.16.2\n"
          ]
        }
      ],
      "source": [
        "# Import Tensorflow\n",
        "import tensorflow as tf\n",
        "print(tf.__version__)"
      ]
    },
    {
      "cell_type": "code",
      "execution_count": 3,
      "metadata": {
        "colab": {
          "base_uri": "https://localhost:8080/"
        },
        "id": "Tsm8DpWuyvRM",
        "outputId": "f2c59ee9-47e8-4782-9322-487a2837321a"
      },
      "outputs": [
        {
          "name": "stdout",
          "output_type": "stream",
          "text": [
            "tf.Tensor(10, shape=(), dtype=int32)\n",
            "0\n",
            "tf.Tensor([12 12], shape=(2,), dtype=int32)\n",
            "1\n",
            "tf.Tensor(\n",
            "[[12 12]\n",
            " [14  9]], shape=(2, 2), dtype=int32)\n",
            "2\n",
            "tf.Tensor(\n",
            "[[[ 4  5  7]\n",
            "  [ 8  5  4]]\n",
            "\n",
            " [[ 3  2  1]\n",
            "  [13 12 11]]\n",
            "\n",
            " [[ 1  9  8]\n",
            "  [ 9  6  4]]], shape=(3, 2, 3), dtype=int32)\n",
            "3\n"
          ]
        }
      ],
      "source": [
        "# Let's create tensors with tf.constant\n",
        "# Scalar\n",
        "scalar=tf.constant(10)\n",
        "print(scalar)\n",
        "print(scalar.ndim)\n",
        "\n",
        "# Vector\n",
        "vector=tf.constant([12,12])\n",
        "print(vector)\n",
        "print(vector.ndim)\n",
        "\n",
        "# Matrix\n",
        "matrix=tf.constant([[12,12],[14,9]])\n",
        "print(matrix)\n",
        "print(matrix.ndim)\n",
        "\n",
        "# Tensor\n",
        "tensor=tf.constant([[[4,5,7],\n",
        "                     [8,5,4]],\n",
        "                    [[3,2,1],\n",
        "                     [13,12,11]],\n",
        "                    [[1,9,8],\n",
        "                    [9,6,4]]])             \n",
        "print(tensor)\n",
        "print(tensor.ndim)"
      ]
    },
    {
      "cell_type": "markdown",
      "metadata": {
        "id": "tTb5RSoWzBtU"
      },
      "source": []
    },
    {
      "cell_type": "code",
      "execution_count": 4,
      "metadata": {
        "colab": {
          "base_uri": "https://localhost:8080/"
        },
        "id": "lS4taFwPzYSH",
        "outputId": "550f4b2f-2cf5-4ecd-aa82-15bdb1fad288"
      },
      "outputs": [
        {
          "name": "stdout",
          "output_type": "stream",
          "text": [
            "<tf.Variable 'Variable:0' shape=(2,) dtype=int32, numpy=array([12, 12], dtype=int32)>\n",
            "<tf.Variable 'UnreadVariable' shape=(2,) dtype=int32, numpy=array([ 9, 12], dtype=int32)>\n"
          ]
        }
      ],
      "source": [
        "# you can create the same tensor with tf.Variable(). The difference between them is that you can change the element of tf.Variable()\n",
        "# Vector\n",
        "vector2=tf.Variable([12,12])\n",
        "print(vector2)\n",
        "vector3=vector2[0].assign(9)\n",
        "print(vector3)"
      ]
    },
    {
      "cell_type": "code",
      "execution_count": 5,
      "metadata": {
        "colab": {
          "base_uri": "https://localhost:8080/"
        },
        "id": "q8d8uqzY2foY",
        "outputId": "130c89b3-1727-40b3-faf5-b265a515b975"
      },
      "outputs": [
        {
          "data": {
            "text/plain": [
              "array([ 1,  2,  3,  4,  5,  6,  7,  8,  9, 10, 11, 12, 13, 14, 15, 16, 17,\n",
              "       18, 19, 20, 21, 22, 23, 24], dtype=int32)"
            ]
          },
          "execution_count": 5,
          "metadata": {},
          "output_type": "execute_result"
        }
      ],
      "source": [
        "# You can turn numpy arrays into tensors\n",
        "import numpy as np\n",
        "nump_a=np.arange(1,25, dtype=np.int32)\n",
        "nump_a"
      ]
    },
    {
      "cell_type": "code",
      "execution_count": 6,
      "metadata": {
        "colab": {
          "base_uri": "https://localhost:8080/"
        },
        "id": "f9evzEsF_5wJ",
        "outputId": "93b801b5-ec4c-4170-9fb4-f553fbe76174"
      },
      "outputs": [
        {
          "data": {
            "text/plain": [
              "<tf.Tensor: shape=(24,), dtype=int32, numpy=\n",
              "array([ 1,  2,  3,  4,  5,  6,  7,  8,  9, 10, 11, 12, 13, 14, 15, 16, 17,\n",
              "       18, 19, 20, 21, 22, 23, 24], dtype=int32)>"
            ]
          },
          "execution_count": 6,
          "metadata": {},
          "output_type": "execute_result"
        }
      ],
      "source": [
        "tensor_a=tf.constant(nump_a)\n",
        "tensor_a"
      ]
    },
    {
      "cell_type": "code",
      "execution_count": 7,
      "metadata": {
        "colab": {
          "base_uri": "https://localhost:8080/"
        },
        "id": "uPZQo5yaKi-J",
        "outputId": "719b3b58-1a3c-466f-ba90-86697e3c4741"
      },
      "outputs": [
        {
          "data": {
            "text/plain": [
              "<tf.Tensor: shape=(2, 3, 4), dtype=int32, numpy=\n",
              "array([[[ 1,  2,  3,  4],\n",
              "        [ 5,  6,  7,  8],\n",
              "        [ 9, 10, 11, 12]],\n",
              "\n",
              "       [[13, 14, 15, 16],\n",
              "        [17, 18, 19, 20],\n",
              "        [21, 22, 23, 24]]], dtype=int32)>"
            ]
          },
          "execution_count": 7,
          "metadata": {},
          "output_type": "execute_result"
        }
      ],
      "source": [
        "tensor_b=tf.constant(nump_a, shape=(2,3,4))\n",
        "tensor_b"
      ]
    },
    {
      "cell_type": "code",
      "execution_count": 9,
      "metadata": {
        "colab": {
          "base_uri": "https://localhost:8080/"
        },
        "id": "iaW1A5r7LWy8",
        "outputId": "b9bbccde-5ed1-498a-d58d-c3982d9585af"
      },
      "outputs": [
        {
          "name": "stdout",
          "output_type": "stream",
          "text": [
            "2.3.1\n"
          ]
        }
      ],
      "source": [
        "import torch\n",
        "print(torch.__version__)"
      ]
    },
    {
      "cell_type": "code",
      "execution_count": 10,
      "metadata": {
        "colab": {
          "base_uri": "https://localhost:8080/"
        },
        "id": "eqgk7fBTiSUx",
        "outputId": "b1ad2c93-8c37-4bdb-a9e8-963782905197"
      },
      "outputs": [
        {
          "name": "stdout",
          "output_type": "stream",
          "text": [
            "[3 4 7 1 5]\n",
            "<class 'numpy.ndarray'>\n"
          ]
        }
      ],
      "source": [
        "arr=np.array([3,4,7,1,5])\n",
        "print(arr)\n",
        "print(type(arr))"
      ]
    },
    {
      "cell_type": "code",
      "execution_count": 11,
      "metadata": {
        "colab": {
          "base_uri": "https://localhost:8080/"
        },
        "id": "ES39nYgPjKbH",
        "outputId": "7c5ca1c8-102c-4422-c310-6fd6513d7f07"
      },
      "outputs": [
        {
          "name": "stdout",
          "output_type": "stream",
          "text": [
            "<class 'torch.Tensor'>\n"
          ]
        }
      ],
      "source": [
        "x=torch.from_numpy(arr)\n",
        "print(type(x))"
      ]
    },
    {
      "cell_type": "code",
      "execution_count": 12,
      "metadata": {
        "id": "pP3kZl78jscs"
      },
      "outputs": [],
      "source": [
        "# Let's do some Tensorflow and Pytorch implementation"
      ]
    },
    {
      "cell_type": "code",
      "execution_count": 13,
      "metadata": {
        "colab": {
          "base_uri": "https://localhost:8080/"
        },
        "id": "KvaF7gshkYoc",
        "outputId": "8a3eda22-e4ce-4810-8616-2a339b0c8fea"
      },
      "outputs": [
        {
          "name": "stdout",
          "output_type": "stream",
          "text": [
            "tf.Tensor(\n",
            "[[6 5]\n",
            " [4 2]\n",
            " [3 1]], shape=(3, 2), dtype=int32)\n"
          ]
        }
      ],
      "source": [
        "# Tensorflow\n",
        "rank2_tf = tf.constant([[6, 5],\n",
        "                             [4, 2],\n",
        "                             [3, 1]], dtype=tf.int32)\n",
        "print(rank2_tf)"
      ]
    },
    {
      "cell_type": "code",
      "execution_count": 14,
      "metadata": {
        "colab": {
          "base_uri": "https://localhost:8080/"
        },
        "id": "i0C5AJZGoGPr",
        "outputId": "6a26bd95-a61f-4234-b366-63c01785c81a"
      },
      "outputs": [
        {
          "name": "stdout",
          "output_type": "stream",
          "text": [
            "tensor([[6, 5],\n",
            "        [4, 2],\n",
            "        [3, 1]], dtype=torch.int32)\n"
          ]
        }
      ],
      "source": [
        "# Pytorch\n",
        "rank2_pt = torch.tensor([[6, 5],\n",
        "                             [4, 2],\n",
        "                             [3, 1]], dtype=torch.int32)\n",
        "print(rank2_pt)"
      ]
    },
    {
      "cell_type": "code",
      "execution_count": 15,
      "metadata": {
        "colab": {
          "base_uri": "https://localhost:8080/"
        },
        "id": "wFGI5EjTon7z",
        "outputId": "816c8f31-6075-445c-a2ab-462f0d4ec06e"
      },
      "outputs": [
        {
          "name": "stdout",
          "output_type": "stream",
          "text": [
            "tf.Tensor(\n",
            "[[2 3]\n",
            " [4 5]], shape=(2, 2), dtype=int32) n\n",
            "tf.Tensor(\n",
            "[[1 2]\n",
            " [3 4]], shape=(2, 2), dtype=int32) n\n"
          ]
        }
      ],
      "source": [
        "# Some basic operations\n",
        "a = tf.constant([[1, 2],\n",
        "                 [3, 4]])\n",
        "b = tf.constant([[1, 1],\n",
        "                 [1, 1]])\n",
        "\n",
        "a = tf.Variable(a)\n",
        "b = tf.Variable(b)\n",
        "\n",
        "print(tf.add(a, b), \"n\")\n",
        "print(tf.multiply(a, b), \"n\")"
      ]
    },
    {
      "cell_type": "code",
      "execution_count": 16,
      "metadata": {
        "colab": {
          "base_uri": "https://localhost:8080/"
        },
        "id": "A1aqWfB5p1N6",
        "outputId": "d22ec4f3-bec1-4145-bdc9-513507984438"
      },
      "outputs": [
        {
          "name": "stdout",
          "output_type": "stream",
          "text": [
            "tensor([ 8., 10., 12.])\n",
            "tensor([ 7., 16., 27.])\n"
          ]
        }
      ],
      "source": [
        "a = torch.tensor([1, 2, 3], dtype=torch.float)\n",
        "b = torch.tensor([7, 8, 9], dtype=torch.float)\n",
        "\n",
        "print(torch.add(a, b))\n",
        "print(a.mul(b))"
      ]
    }
  ],
  "metadata": {
    "colab": {
      "provenance": []
    },
    "kernelspec": {
      "display_name": "Python 3",
      "name": "python3"
    },
    "language_info": {
      "codemirror_mode": {
        "name": "ipython",
        "version": 3
      },
      "file_extension": ".py",
      "mimetype": "text/x-python",
      "name": "python",
      "nbconvert_exporter": "python",
      "pygments_lexer": "ipython3",
      "version": "3.11.0"
    }
  },
  "nbformat": 4,
  "nbformat_minor": 0
}
