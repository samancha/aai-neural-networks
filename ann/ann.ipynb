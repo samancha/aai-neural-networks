{
 "cells": [
  {
   "cell_type": "markdown",
   "metadata": {},
   "source": [
    "Instructions\n",
    "Load the dataset into pandas dataframe.  \n",
    "Perform data cleaning and preprocessing as necessary.  \n",
    "Split the data into training and testing sets using an 80:20 ratio.  \n",
    "Scale the data using StandardScaler.  \n",
    "Build an ANN classification model.  \n",
    "Experiment with different model architectures, activation functions, regularization techniques, learning rates, and batch sizes to optimize the model's performance.  \n",
    "Evaluate the model's performance using accuracy, precision, recall, F1 score, and ROC AUC score as the metrics.  \n",
    "Interpret the results and draw conclusions about the factors that are most important in predicting whether a user will click on an online ad.   "
   ]
  },
  {
   "cell_type": "code",
   "execution_count": null,
   "metadata": {},
   "outputs": [],
   "source": [
    "import pandas as pd\n",
    "import numpy as np\n",
    "import matplotlib.pyplot as plt\n",
    "import seaborn as sns\n",
    "from sklearn.preprocessing import  StandardScaler\n",
    "from sklearn.model_selection import train_test_split\n",
    "from sklearn.feature_extraction.text import TfidfVectorizer\n",
    "from sklearn.preprocessing import LabelEncoder\n",
    "import ast\n",
    "import tensorflow as tf\n",
    "import nltk\n",
    "nltk.download('wordnet')\n",
    "nltk.download('stopwords')\n",
    "from nltk.corpus import stopwords\n",
    "from sklearn.metrics import ConfusionMatrixDisplay, confusion_matrix, f1_score,recall_score,precision_score, roc_auc_score, accuracy_score"
   ]
  },
  {
   "cell_type": "code",
   "execution_count": 233,
   "metadata": {},
   "outputs": [
    {
     "data": {
      "text/html": [
       "<div>\n",
       "<style scoped>\n",
       "    .dataframe tbody tr th:only-of-type {\n",
       "        vertical-align: middle;\n",
       "    }\n",
       "\n",
       "    .dataframe tbody tr th {\n",
       "        vertical-align: top;\n",
       "    }\n",
       "\n",
       "    .dataframe thead th {\n",
       "        text-align: right;\n",
       "    }\n",
       "</style>\n",
       "<table border=\"1\" class=\"dataframe\">\n",
       "  <thead>\n",
       "    <tr style=\"text-align: right;\">\n",
       "      <th></th>\n",
       "      <th>Daily Time Spent on Site</th>\n",
       "      <th>Age</th>\n",
       "      <th>Area Income</th>\n",
       "      <th>Daily Internet Usage</th>\n",
       "      <th>Ad Topic Line</th>\n",
       "      <th>City</th>\n",
       "      <th>Male</th>\n",
       "      <th>Country</th>\n",
       "      <th>Timestamp</th>\n",
       "      <th>Clicked on Ad</th>\n",
       "    </tr>\n",
       "  </thead>\n",
       "  <tbody>\n",
       "    <tr>\n",
       "      <th>0</th>\n",
       "      <td>68.95</td>\n",
       "      <td>35</td>\n",
       "      <td>61833.90</td>\n",
       "      <td>256.09</td>\n",
       "      <td>Cloned 5thgeneration orchestration</td>\n",
       "      <td>Wrightburgh</td>\n",
       "      <td>0</td>\n",
       "      <td>Tunisia</td>\n",
       "      <td>2016-03-27 00:53:11</td>\n",
       "      <td>0</td>\n",
       "    </tr>\n",
       "    <tr>\n",
       "      <th>1</th>\n",
       "      <td>80.23</td>\n",
       "      <td>31</td>\n",
       "      <td>68441.85</td>\n",
       "      <td>193.77</td>\n",
       "      <td>Monitored national standardization</td>\n",
       "      <td>West Jodi</td>\n",
       "      <td>1</td>\n",
       "      <td>Nauru</td>\n",
       "      <td>2016-04-04 01:39:02</td>\n",
       "      <td>0</td>\n",
       "    </tr>\n",
       "    <tr>\n",
       "      <th>2</th>\n",
       "      <td>69.47</td>\n",
       "      <td>26</td>\n",
       "      <td>59785.94</td>\n",
       "      <td>236.50</td>\n",
       "      <td>Organic bottom-line service-desk</td>\n",
       "      <td>Davidton</td>\n",
       "      <td>0</td>\n",
       "      <td>San Marino</td>\n",
       "      <td>2016-03-13 20:35:42</td>\n",
       "      <td>0</td>\n",
       "    </tr>\n",
       "    <tr>\n",
       "      <th>3</th>\n",
       "      <td>74.15</td>\n",
       "      <td>29</td>\n",
       "      <td>54806.18</td>\n",
       "      <td>245.89</td>\n",
       "      <td>Triple-buffered reciprocal time-frame</td>\n",
       "      <td>West Terrifurt</td>\n",
       "      <td>1</td>\n",
       "      <td>Italy</td>\n",
       "      <td>2016-01-10 02:31:19</td>\n",
       "      <td>0</td>\n",
       "    </tr>\n",
       "    <tr>\n",
       "      <th>4</th>\n",
       "      <td>68.37</td>\n",
       "      <td>35</td>\n",
       "      <td>73889.99</td>\n",
       "      <td>225.58</td>\n",
       "      <td>Robust logistical utilization</td>\n",
       "      <td>South Manuel</td>\n",
       "      <td>0</td>\n",
       "      <td>Iceland</td>\n",
       "      <td>2016-06-03 03:36:18</td>\n",
       "      <td>0</td>\n",
       "    </tr>\n",
       "  </tbody>\n",
       "</table>\n",
       "</div>"
      ],
      "text/plain": [
       "   Daily Time Spent on Site  Age  Area Income  Daily Internet Usage  \\\n",
       "0                     68.95   35     61833.90                256.09   \n",
       "1                     80.23   31     68441.85                193.77   \n",
       "2                     69.47   26     59785.94                236.50   \n",
       "3                     74.15   29     54806.18                245.89   \n",
       "4                     68.37   35     73889.99                225.58   \n",
       "\n",
       "                           Ad Topic Line            City  Male     Country  \\\n",
       "0     Cloned 5thgeneration orchestration     Wrightburgh     0     Tunisia   \n",
       "1     Monitored national standardization       West Jodi     1       Nauru   \n",
       "2       Organic bottom-line service-desk        Davidton     0  San Marino   \n",
       "3  Triple-buffered reciprocal time-frame  West Terrifurt     1       Italy   \n",
       "4          Robust logistical utilization    South Manuel     0     Iceland   \n",
       "\n",
       "             Timestamp  Clicked on Ad  \n",
       "0  2016-03-27 00:53:11              0  \n",
       "1  2016-04-04 01:39:02              0  \n",
       "2  2016-03-13 20:35:42              0  \n",
       "3  2016-01-10 02:31:19              0  \n",
       "4  2016-06-03 03:36:18              0  "
      ]
     },
     "metadata": {},
     "output_type": "display_data"
    }
   ],
   "source": [
    "# 1. Load the dataset\n",
    "df = pd.read_csv('M2-Advertising Dataset.csv')\n",
    "pd.set_option('display.max_columns', None)\n",
    "display(df.head())"
   ]
  },
  {
   "cell_type": "code",
   "execution_count": 26,
   "metadata": {},
   "outputs": [
    {
     "name": "stdout",
     "output_type": "stream",
     "text": [
      "Daily Time Spent on Site    0\n",
      "Age                         0\n",
      "Area Income                 0\n",
      "Daily Internet Usage        0\n",
      "Ad Topic Line               0\n",
      "City                        0\n",
      "Male                        0\n",
      "Country                     0\n",
      "Timestamp                   0\n",
      "Clicked on Ad               0\n",
      "dtype: int64\n",
      "Daily Time Spent on Site    float64\n",
      "Age                           int64\n",
      "Area Income                 float64\n",
      "Daily Internet Usage        float64\n",
      "Ad Topic Line                object\n",
      "City                         object\n",
      "Male                          int64\n",
      "Country                      object\n",
      "Timestamp                    object\n",
      "Clicked on Ad                 int64\n",
      "dtype: object\n"
     ]
    }
   ],
   "source": [
    "# Perform data cleaning and preprocessing as necessary.  \n",
    "print(df.isnull().sum())\n",
    "print(df.dtypes)"
   ]
  },
  {
   "cell_type": "code",
   "execution_count": 11,
   "metadata": {},
   "outputs": [
    {
     "data": {
      "image/png": "[encoded data removed]",
      "text/plain": [
       "<Figure size 640x480 with 1 Axes>"
      ]
     },
     "metadata": {},
     "output_type": "display_data"
    }
   ],
   "source": [
    "sns.countplot(data = df , x ='Clicked on Ad', hue = 'Clicked on Ad')\n",
    "plt.title('Target Variable')\n",
    "plt.show()"
   ]
  },
  {
   "cell_type": "code",
   "execution_count": null,
   "metadata": {},
   "outputs": [],
   "source": [
    "# 2. Data Preprocessing and cleaning\n",
    "X = df.drop(columns='Clicked on Ad', axis= 1)\n",
    "y = df['Clicked on Ad']\n",
    "\n",
    "#Encoding Categorical Variable Gender\n",
    "LE1 = LabelEncoder()\n",
    "X['Country'] = np.array(LE1.fit_transform(X['Country']))\n",
    "X['City'] = np.array(LE1.fit_transform(X['City']))\n",
    "\n",
    "# Converting Timestamp to datetime\n",
    "X['Timestamp'] = pd.to_datetime(X['Timestamp'])\n",
    "X['year'] = X['Timestamp'].dt.year\n",
    "X['month'] = X['Timestamp'].dt.month\n",
    "X['day'] = X['Timestamp'].dt.day\n",
    "X['hour'] = X['Timestamp'].dt.hour\n",
    "X['minute'] = X['Timestamp'].dt.minute\n",
    "X['second'] = X['Timestamp'].dt.second\n",
    "# Drop the original timestamp column if it's no longer needed\n",
    "X.drop('Timestamp', axis=1, inplace=True)\n",
    "display(X.head())"
   ]
  },
  {
   "cell_type": "code",
   "execution_count": null,
   "metadata": {},
   "outputs": [],
   "source": [
    "def process_text_with_tf(text_column):\n",
    "    articles_dataset = tf.data.Dataset.from_tensor_slices(text_column.values)\n",
    "    \n",
    "    # Define TextVectorization layer with custom standardization\n",
    "    max_features = 10000  # Adjust based on your vocabulary size\n",
    "    sequence_length = 100  # Adjust based on the length of your documents\n",
    "    \n",
    "    vectorize_layer = tf.keras.layers.TextVectorization(\n",
    "        max_tokens=max_features,\n",
    "        output_mode='int',\n",
    "        output_sequence_length=sequence_length,\n",
    "        standardize=clean_text\n",
    "    )\n",
    "    \n",
    "    # Adapt the TextVectorization layer to the dataset\n",
    "    vectorize_layer.adapt(articles_dataset.batch(64))\n",
    "    \n",
    "    # Vectorize the articles\n",
    "    vectorized_articles = articles_dataset.map(lambda x: vectorize_layer(x))\n",
    "    return vectorized_articles\n",
    "\n",
    "def clean_text(input_text):\n",
    "    # Lowercasing\n",
    "    lowercase_text = tf.strings.lower(input_text)\n",
    "    # Removing HTML tags\n",
    "    stripped_html = tf.strings.regex_replace(lowercase_text, \"<[^>]+>\", \" \")\n",
    "    # Removing URLs\n",
    "    stripped_urls = tf.strings.regex_replace(stripped_html, r\"http\\S+\", \" \")\n",
    "    # Removing non-alphabetic characters\n",
    "    stripped_non_alpha = tf.strings.regex_replace(stripped_urls, r\"[^A-Za-z]+\", \" \")\n",
    "\n",
    "    # tokenized = nltk.word_tokenize(stripped_non_alpha)\n",
    "    # stop_words = set(stopwords.words('english'))\n",
    "    # filtered_sentence = [w for w in tokenized if not w in stop_words]\n",
    "    # clean_str = ' '.join(filtered_sentence)\n",
    "\n",
    "    return stripped_non_alpha\n",
    "\n",
    "# returns a dataset of vectorized text\n",
    "text_column = X.pop('Ad Topic Line')\n",
    "vect_df = process_text_with_tf(text_column)\n",
    "\n",
    "\n",
    "# 4. Scale the data using StandardScaler.  \n",
    "scaler = StandardScaler()\n",
    "numerical_columns = X.columns \n",
    "scaled_numerical_data = scaler.fit_transform(X[numerical_columns])\n",
    "# Convert the scaled numerical data back to a dataframe\n",
    "scaled_numerical_df = pd.DataFrame(scaled_numerical_data, columns=numerical_columns)\n",
    "vectorized_articles_numpy = np.array(list(vect_df.as_numpy_iterator()))"
   ]
  },
  {
   "cell_type": "code",
   "execution_count": 216,
   "metadata": {},
   "outputs": [],
   "source": [
    "# 3. Split the data into training and testing sets\n",
    "X_train_num, X_test_num, y_train_text, y_test_text, y_train, y_test = train_test_split(\n",
    "    scaled_numerical_df, vectorized_articles_numpy, y, test_size=0.2, random_state=42\n",
    ")\n",
    "\n",
    "# Convert the split datasets to TensorFlow datasets\n",
    "train_num_dataset = tf.data.Dataset.from_tensor_slices(np.array(X_train_num))\n",
    "test_num_dataset = tf.data.Dataset.from_tensor_slices(np.array(X_test_num))\n",
    "train_text_dataset = tf.data.Dataset.from_tensor_slices(np.array(y_train_text))\n",
    "test_text_dataset = tf.data.Dataset.from_tensor_slices(np.array(y_test_text))\n",
    "train_target_dataset = tf.data.Dataset.from_tensor_slices(np.array(y_train))\n",
    "test_target_dataset = tf.data.Dataset.from_tensor_slices(np.array(y_test))\n",
    "\n",
    "# Combine the numerical and text datasets with the target variable for training and testing\n",
    "train_dataset = tf.data.Dataset.zip(((train_num_dataset, train_text_dataset), train_target_dataset))\n",
    "test_dataset = tf.data.Dataset.zip(((test_num_dataset, test_text_dataset), test_target_dataset))"
   ]
  },
  {
   "cell_type": "code",
   "execution_count": 217,
   "metadata": {},
   "outputs": [
    {
     "name": "stdout",
     "output_type": "stream",
     "text": [
      "Epoch 1/20\n"
     ]
    },
    {
     "name": "stdout",
     "output_type": "stream",
     "text": [
      "\u001b[1m25/25\u001b[0m \u001b[32m━━━━━━━━━━━━━━━━━━━━\u001b[0m\u001b[37m\u001b[0m \u001b[1m0s\u001b[0m 4ms/step - accuracy: 0.6338 - loss: 0.6493 - val_accuracy: 0.8900 - val_loss: 0.4587\n",
      "Epoch 2/20\n",
      "\u001b[1m25/25\u001b[0m \u001b[32m━━━━━━━━━━━━━━━━━━━━\u001b[0m\u001b[37m\u001b[0m \u001b[1m0s\u001b[0m 2ms/step - accuracy: 0.9422 - loss: 0.3791 - val_accuracy: 0.9200 - val_loss: 0.2758\n",
      "Epoch 3/20\n",
      "\u001b[1m25/25\u001b[0m \u001b[32m━━━━━━━━━━━━━━━━━━━━\u001b[0m\u001b[37m\u001b[0m \u001b[1m0s\u001b[0m 2ms/step - accuracy: 0.9612 - loss: 0.2036 - val_accuracy: 0.9400 - val_loss: 0.1830\n",
      "Epoch 4/20\n",
      "\u001b[1m25/25\u001b[0m \u001b[32m━━━━━━━━━━━━━━━━━━━━\u001b[0m\u001b[37m\u001b[0m \u001b[1m0s\u001b[0m 2ms/step - accuracy: 0.9678 - loss: 0.1251 - val_accuracy: 0.9350 - val_loss: 0.1525\n",
      "Epoch 5/20\n",
      "\u001b[1m25/25\u001b[0m \u001b[32m━━━━━━━━━━━━━━━━━━━━\u001b[0m\u001b[37m\u001b[0m \u001b[1m0s\u001b[0m 2ms/step - accuracy: 0.9714 - loss: 0.0950 - val_accuracy: 0.9450 - val_loss: 0.1451\n",
      "Epoch 6/20\n",
      "\u001b[1m25/25\u001b[0m \u001b[32m━━━━━━━━━━━━━━━━━━━━\u001b[0m\u001b[37m\u001b[0m \u001b[1m0s\u001b[0m 2ms/step - accuracy: 0.9763 - loss: 0.0809 - val_accuracy: 0.9450 - val_loss: 0.1438\n",
      "Epoch 7/20\n",
      "\u001b[1m25/25\u001b[0m \u001b[32m━━━━━━━━━━━━━━━━━━━━\u001b[0m\u001b[37m\u001b[0m \u001b[1m0s\u001b[0m 2ms/step - accuracy: 0.9779 - loss: 0.0728 - val_accuracy: 0.9450 - val_loss: 0.1464\n",
      "Epoch 8/20\n",
      "\u001b[1m25/25\u001b[0m \u001b[32m━━━━━━━━━━━━━━━━━━━━\u001b[0m\u001b[37m\u001b[0m \u001b[1m0s\u001b[0m 2ms/step - accuracy: 0.9776 - loss: 0.0670 - val_accuracy: 0.9500 - val_loss: 0.1494\n",
      "Epoch 9/20\n",
      "\u001b[1m25/25\u001b[0m \u001b[32m━━━━━━━━━━━━━━━━━━━━\u001b[0m\u001b[37m\u001b[0m \u001b[1m0s\u001b[0m 2ms/step - accuracy: 0.9836 - loss: 0.0622 - val_accuracy: 0.9450 - val_loss: 0.1533\n",
      "Epoch 10/20\n",
      "\u001b[1m25/25\u001b[0m \u001b[32m━━━━━━━━━━━━━━━━━━━━\u001b[0m\u001b[37m\u001b[0m \u001b[1m0s\u001b[0m 2ms/step - accuracy: 0.9843 - loss: 0.0581 - val_accuracy: 0.9400 - val_loss: 0.1563\n",
      "Epoch 11/20\n",
      "\u001b[1m25/25\u001b[0m \u001b[32m━━━━━━━━━━━━━━━━━━━━\u001b[0m\u001b[37m\u001b[0m \u001b[1m0s\u001b[0m 2ms/step - accuracy: 0.9854 - loss: 0.0547 - val_accuracy: 0.9400 - val_loss: 0.1594\n",
      "Epoch 12/20\n",
      "\u001b[1m25/25\u001b[0m \u001b[32m━━━━━━━━━━━━━━━━━━━━\u001b[0m\u001b[37m\u001b[0m \u001b[1m0s\u001b[0m 2ms/step - accuracy: 0.9863 - loss: 0.0519 - val_accuracy: 0.9400 - val_loss: 0.1624\n",
      "Epoch 13/20\n",
      "\u001b[1m25/25\u001b[0m \u001b[32m━━━━━━━━━━━━━━━━━━━━\u001b[0m\u001b[37m\u001b[0m \u001b[1m0s\u001b[0m 2ms/step - accuracy: 0.9891 - loss: 0.0494 - val_accuracy: 0.9400 - val_loss: 0.1653\n",
      "Epoch 14/20\n",
      "\u001b[1m25/25\u001b[0m \u001b[32m━━━━━━━━━━━━━━━━━━━━\u001b[0m\u001b[37m\u001b[0m \u001b[1m0s\u001b[0m 2ms/step - accuracy: 0.9909 - loss: 0.0470 - val_accuracy: 0.9400 - val_loss: 0.1680\n",
      "Epoch 15/20\n",
      "\u001b[1m25/25\u001b[0m \u001b[32m━━━━━━━━━━━━━━━━━━━━\u001b[0m\u001b[37m\u001b[0m \u001b[1m0s\u001b[0m 2ms/step - accuracy: 0.9909 - loss: 0.0449 - val_accuracy: 0.9400 - val_loss: 0.1705\n",
      "Epoch 16/20\n",
      "\u001b[1m25/25\u001b[0m \u001b[32m━━━━━━━━━━━━━━━━━━━━\u001b[0m\u001b[37m\u001b[0m \u001b[1m0s\u001b[0m 2ms/step - accuracy: 0.9919 - loss: 0.0429 - val_accuracy: 0.9400 - val_loss: 0.1728\n",
      "Epoch 17/20\n",
      "\u001b[1m25/25\u001b[0m \u001b[32m━━━━━━━━━━━━━━━━━━━━\u001b[0m\u001b[37m\u001b[0m \u001b[1m0s\u001b[0m 2ms/step - accuracy: 0.9925 - loss: 0.0411 - val_accuracy: 0.9400 - val_loss: 0.1751\n",
      "Epoch 18/20\n",
      "\u001b[1m25/25\u001b[0m \u001b[32m━━━━━━━━━━━━━━━━━━━━\u001b[0m\u001b[37m\u001b[0m \u001b[1m0s\u001b[0m 2ms/step - accuracy: 0.9925 - loss: 0.0393 - val_accuracy: 0.9400 - val_loss: 0.1771\n",
      "Epoch 19/20\n",
      "\u001b[1m25/25\u001b[0m \u001b[32m━━━━━━━━━━━━━━━━━━━━\u001b[0m\u001b[37m\u001b[0m \u001b[1m0s\u001b[0m 2ms/step - accuracy: 0.9925 - loss: 0.0376 - val_accuracy: 0.9400 - val_loss: 0.1789\n",
      "Epoch 20/20\n",
      "\u001b[1m25/25\u001b[0m \u001b[32m━━━━━━━━━━━━━━━━━━━━\u001b[0m\u001b[37m\u001b[0m \u001b[1m0s\u001b[0m 2ms/step - accuracy: 0.9926 - loss: 0.0360 - val_accuracy: 0.9400 - val_loss: 0.1806\n",
      "Model Training Complete!\n"
     ]
    }
   ],
   "source": [
    "\n",
    "# 5 and 6. build a neural network model using the tf keras Sequential\n",
    "def build_model(input_shape_num, input_shape_text, output_shape):\n",
    "    # Define numerical input\n",
    "    input_num = tf.keras.layers.Input(shape=(input_shape_num,))\n",
    "    \n",
    "    # Define text input\n",
    "    input_text = tf.keras.layers.Input(shape=(input_shape_text,))\n",
    "    \n",
    "    # Process numerical input\n",
    "    x_num = tf.keras.layers.Dense(32, activation='relu')(input_num)\n",
    "    \n",
    "    # Process text input\n",
    "    x_text = tf.keras.layers.Embedding(input_dim=10000, output_dim=64)(input_text)\n",
    "    x_text = tf.keras.layers.GlobalAveragePooling1D()(x_text)\n",
    "    \n",
    "    # Concatenate processed numerical and text inputs\n",
    "    concatenated = tf.keras.layers.concatenate([x_num, x_text])\n",
    "    \n",
    "    # Add a fully connected layer\n",
    "    x = tf.keras.layers.Dense(64, activation='relu')(concatenated)\n",
    "    \n",
    "    # Output layer\n",
    "    output = tf.keras.layers.Dense(output_shape, activation='sigmoid')(x)\n",
    "    \n",
    "    # Create the model\n",
    "    model = tf.keras.models.Model(inputs=[input_num, input_text], outputs=output)\n",
    "    \n",
    "    return model\n",
    "\n",
    "# Compile the model\n",
    "input_shape_num = X_train_num.shape[1]  # Number of numerical features\n",
    "input_shape_text = y_train_text.shape[1]  # Length of the text sequence\n",
    "ann = build_model(input_shape_num, input_shape_text, 1)\n",
    "ann.compile(optimizer=\"adam\",loss=\"binary_crossentropy\",metrics=['accuracy'])\n",
    "\n",
    "# Train the model\n",
    "ann.fit(train_dataset.batch(32), epochs=20, validation_data=test_dataset.batch(32))\n",
    "\n",
    "print(\"Model Training Complete!\")"
   ]
  },
  {
   "cell_type": "code",
   "execution_count": 227,
   "metadata": {},
   "outputs": [
    {
     "name": "stdout",
     "output_type": "stream",
     "text": [
      "\u001b[1m7/7\u001b[0m \u001b[32m━━━━━━━━━━━━━━━━━━━━\u001b[0m\u001b[37m\u001b[0m \u001b[1m0s\u001b[0m 605us/step\n"
     ]
    }
   ],
   "source": [
    "# Experiment with different model architectures, activation functions, regularization techniques, learning rates, and batch sizes to optimize the model's performance.  \n",
    "\n",
    "# Make predictions\n",
    "predictions = ann.predict(test_dataset.batch(32))\n",
    "predictions = (predictions > 0.5).astype(int)  # Convert probabilities to binary predictions\n"
   ]
  },
  {
   "cell_type": "code",
   "execution_count": 232,
   "metadata": {},
   "outputs": [
    {
     "name": "stderr",
     "output_type": "stream",
     "text": [
      "2024-07-08 22:33:44.133184: W tensorflow/core/framework/local_rendezvous.cc:404] Local rendezvous is aborting with status: OUT_OF_RANGE: End of sequence\n"
     ]
    },
    {
     "data": {
      "image/png": "[encoded data removed]",
      "text/plain": [
       "<Figure size 600x600 with 2 Axes>"
      ]
     },
     "metadata": {},
     "output_type": "display_data"
    },
    {
     "name": "stdout",
     "output_type": "stream",
     "text": [
      "Accuracy: 0.94\n",
      "Precision: 0.96\n",
      "Recall : 0.93\n",
      "F1 Score: 0.94\n",
      "AUC Score: 0.9414920538516043\n",
      "False Positive Rate (Type I Error): 0.04\n",
      "False Negative Rate (Type II Error): 0.07\n"
     ]
    }
   ],
   "source": [
    "# 7. Evaluate the model's performance using accuracy, precision, recall, F1 score, and ROC AUC score as the metrics.  \n",
    "def metrics(y_test, predictions, is_validation=False):\n",
    "    '''\n",
    "    This function takes in the testing/validation set and the predictions made by the algorithm, calculates the metrics, and\n",
    "    plots the confusion matrix to evaluate the performance of the classifier. The color of the confusion matrix changes\n",
    "    based on whether it's a validation set.\n",
    "    '''\n",
    "\n",
    "    conf_mtrx = confusion_matrix(y_test, predictions)\n",
    "    disp = ConfusionMatrixDisplay(confusion_matrix=conf_mtrx)\n",
    "    fig, ax = plt.subplots(figsize=(6, 6))\n",
    "    cmap = 'YlOrBr' if is_validation else 'Blues'\n",
    "    disp.plot(cmap=cmap, include_values=True, ax=ax)\n",
    "    plt.title('Confusion Matrix' + (' (Validation Set)' if is_validation else ''))\n",
    "    plt.show()\n",
    "\n",
    "    print(f'Accuracy: {round(accuracy_score(y_test, predictions), 2)}')\n",
    "    print(f'Precision: {round(precision_score(y_test, predictions), 2)}')\n",
    "    print(f'Recall : {round(recall_score(y_test, predictions), 2)}')\n",
    "    print(f'F1 Score: {round(f1_score(y_test, predictions), 2)}')\n",
    "    print(f'AUC Score: {roc_auc_score(y_test, predictions)}')\n",
    "\n",
    "\n",
    "    # Error calculation, since these are often more interpretable to a general audience\n",
    "    tn, fp, fn, tp = conf_mtrx.ravel()\n",
    "    false_positive_rate = fp / (fp + tn)\n",
    "    false_negative_rate = fn / (fn + tp)\n",
    "    print(f'False Positive Rate (Type I Error): {round(false_positive_rate, 2)}')\n",
    "    print(f'False Negative Rate (Type II Error): {round(false_negative_rate, 2)}')\n",
    "\n",
    "y_test = np.array(list(test_target_dataset.as_numpy_iterator()))\n",
    "metrics(y_test, predictions, is_validation=False)"
   ]
  },
  {
   "cell_type": "markdown",
   "metadata": {},
   "source": [
    "# 8. Conclusion\n",
    "\n",
    "Model results look great considering there was a mix of numerical, categorial, and vector data. The model was able to predict with 94% accuracy, 96% precision, 93% recall, and 94% F1 score. The model was able to predict whether a user will click on an online ad based on the given factors. My initial reaction is that all the features provide some quality information since the model was trained on all of it together. Standarizing some of the fields like timestamp or their converted values may have not been neccessary since the model was able to predict with high accuracy. I believe by keeping the a mix of the text and numerical data, the model was able to learn the patterns in the data."
   ]
  },
  {
   "cell_type": "markdown",
   "metadata": {},
   "source": []
  }
 ],
 "metadata": {
  "kernelspec": {
   "display_name": "venv3110",
   "language": "python",
   "name": "python3"
  },
  "language_info": {
   "codemirror_mode": {
    "name": "ipython",
    "version": 3
   },
   "file_extension": ".py",
   "mimetype": "text/x-python",
   "name": "python",
   "nbconvert_exporter": "python",
   "pygments_lexer": "ipython3",
   "version": "3.11.0"
  }
 },
 "nbformat": 4,
 "nbformat_minor": 2
}
